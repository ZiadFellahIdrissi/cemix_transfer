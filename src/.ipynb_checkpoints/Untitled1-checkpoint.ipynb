{
 "cells": [
  {
   "cell_type": "code",
   "execution_count": 72,
   "id": "4b0f1102",
   "metadata": {},
   "outputs": [],
   "source": [
    "import pandas as pd \n",
    "import sqlite3\n",
    "from openpyxl import Workbook\n",
    "from openpyxl.styles import Border, Side, PatternFill\n"
   ]
  },
  {
   "cell_type": "code",
   "execution_count": 54,
   "id": "6fdf6dc8",
   "metadata": {},
   "outputs": [],
   "source": [
    "conn = sqlite3.connect(\"Cemix_database_test.db\")"
   ]
  },
  {
   "cell_type": "code",
   "execution_count": 55,
   "id": "8fc0a44d",
   "metadata": {},
   "outputs": [],
   "source": [
    "query = \"\"\"\n",
    "            SELECT c.date as 'Date de Shift', c.heure as 'Heure de Shift',\n",
    "            c.ligne as 'Ligne', c.shift as 'Shift', c.operateur_mix as 'Operateur Mix', \n",
    "            c.operateur_ensacheuse  as 'Operateur Ensacheuse',\n",
    "            c.clarist_m  as 'Clarist M', c.clariste_p as 'Clariste P',\n",
    "            c.aide_magasinier as 'Aide Magasinier',\n",
    "            p.date as 'Date de Palette', p.numero_palette as 'Numero de Palette' ,\n",
    "            a.nom_article as 'Article', p.nombre_de_sac as 'Nombre de Sac',\n",
    "            p.Commentair as 'Error Commentair', p.poids as 'Poids',\n",
    "            p.echantillon_10Kg as 'Echantillon 10Kg',\n",
    "            p.echantillon_4Kg as 'Echantillon 4Kg',\n",
    "            p.duration_min as 'Palatte_duration',\n",
    "            p.ecart_by_10 as 'Ecart'\n",
    "            FROM cemix_info c\n",
    "            join palette p on p.cemix_main_id = c.id\n",
    "            join article a on a.id = p.article_id\n",
    "            where DATE(c.date) = DATE('now', '-20 day');\n",
    "        \"\"\"\n",
    "df_all_day = pd.read_sql_query(query, conn)"
   ]
  },
  {
   "cell_type": "code",
   "execution_count": 56,
   "id": "a8b00212",
   "metadata": {},
   "outputs": [],
   "source": [
    "def sum_positive(x):\n",
    "    return x[x > 0].sum()\n",
    "\n",
    "def sum_Echantt(x):\n",
    "    return x[x == \"Oui\"].count()\n",
    "\n",
    "def sum_error(x):\n",
    "    return '\\n'.join(x[(x != \"\") | (x != None)])"
   ]
  },
  {
   "cell_type": "code",
   "execution_count": 65,
   "id": "618f4bcd",
   "metadata": {},
   "outputs": [],
   "source": [
    "agg_functions = {\n",
    "                'Palatte_duration' : 'sum',\n",
    "                'Numero de Palette': 'count', \n",
    "                'Nombre de Sac': 'sum',\n",
    "                'Ecart': lambda x: x[x > 0].sum(),\n",
    "                \"Error Commentair\": lambda x: '\\n'.join(x[(x != \"\") | (x != None)]),\n",
    "                'Echantillon 10Kg': lambda x: x[x == \"Oui\"].count(),\n",
    "                'Echantillon 4Kg': lambda x: x[x == \"Oui\"].count(),\n",
    "                'Poids' : \"sum\",\n",
    "                }"
   ]
  },
  {
   "cell_type": "code",
   "execution_count": 66,
   "id": "55d50ec7",
   "metadata": {},
   "outputs": [],
   "source": [
    "df_synthes = df_all_day.groupby([\"Shift\"]).agg(agg_functions).reset_index()\n",
    "\n",
    "df_synthes.rename(columns = {\n",
    "                            \"Palatte_duration\": \"Tottal Heure Travaile\", \n",
    "                            \"Numero de Palette\": \"Nombre De Palette Produite\",\n",
    "                            \"Ecart\" : \"Nombre d'heure d'arret\", \n",
    "                            \"Nombre de Sac\": \"Nombre Total SAC\", \n",
    "                            \"Poids\" : \"Tottal Poids\", \n",
    "                            \"Echantillon 10Kg\": \"Tottal Echantillon 10Kg\", \n",
    "                            \"Echantillon 4Kg\": \"Tottal Echantillon 4Kg\",\n",
    "    \"Error Commentair\": \"Cause\"\n",
    "                            }, inplace = True )\n",
    "\n",
    "df_synthes[\"NBR SAC/PALETTE\"] = df_synthes[\"Nombre Total SAC\"] / df_synthes[\"Nombre De Palette Produite\"]\n",
    "df_synthes[\"Poid Tottal/PALETTE\"] = df_synthes[\"Tottal Poids\"] / df_synthes[\"Nombre De Palette Produite\"]\n",
    "\n",
    "df_synthes = df_synthes[[\"Tottal Heure Travaile\", \"Nombre De Palette Produite\", \n",
    "                         \"Nombre d'heure d'arret\", \"Cause\", \"Nombre Total SAC\", \"Tottal Poids\", \n",
    "                        \"NBR SAC/PALETTE\", \"Poid Tottal/PALETTE\", \"Tottal Echantillon 10Kg\", \"Tottal Echantillon 4Kg\"]]\n",
    "\n"
   ]
  },
  {
   "cell_type": "code",
   "execution_count": 64,
   "id": "f052cbb9",
   "metadata": {},
   "outputs": [
    {
     "data": {
      "text/html": [
       "<div>\n",
       "<style scoped>\n",
       "    .dataframe tbody tr th:only-of-type {\n",
       "        vertical-align: middle;\n",
       "    }\n",
       "\n",
       "    .dataframe tbody tr th {\n",
       "        vertical-align: top;\n",
       "    }\n",
       "\n",
       "    .dataframe thead th {\n",
       "        text-align: right;\n",
       "    }\n",
       "</style>\n",
       "<table border=\"1\" class=\"dataframe\">\n",
       "  <thead>\n",
       "    <tr style=\"text-align: right;\">\n",
       "      <th></th>\n",
       "      <th>Tottal Heure Travaile</th>\n",
       "      <th>Nombre De Palette Produite</th>\n",
       "      <th>Nombre d'heure d'arret</th>\n",
       "      <th>Cause</th>\n",
       "      <th>Nombre Total SAC</th>\n",
       "      <th>Tottal Poids</th>\n",
       "      <th>NBR SAC/PALETTE</th>\n",
       "      <th>Poid Tottal/PALETTE</th>\n",
       "      <th>Tottal Echantillon 10Kg</th>\n",
       "      <th>Tottal Echantillon 4Kg</th>\n",
       "    </tr>\n",
       "  </thead>\n",
       "  <tbody>\n",
       "    <tr>\n",
       "      <th>0</th>\n",
       "      <td>124.92</td>\n",
       "      <td>12</td>\n",
       "      <td>15.92</td>\n",
       "      <td>No Comment\\nNo Comment\\nNo Comment\\nNo Comment...</td>\n",
       "      <td>100</td>\n",
       "      <td>953.0</td>\n",
       "      <td>8.333333</td>\n",
       "      <td>79.416667</td>\n",
       "      <td>6</td>\n",
       "      <td>6</td>\n",
       "    </tr>\n",
       "    <tr>\n",
       "      <th>1</th>\n",
       "      <td>85.24</td>\n",
       "      <td>9</td>\n",
       "      <td>10.59</td>\n",
       "      <td>No Comment\\nNo Comment\\nNo Comment\\nNo Comment...</td>\n",
       "      <td>74</td>\n",
       "      <td>702.1</td>\n",
       "      <td>8.222222</td>\n",
       "      <td>78.011111</td>\n",
       "      <td>5</td>\n",
       "      <td>4</td>\n",
       "    </tr>\n",
       "    <tr>\n",
       "      <th>2</th>\n",
       "      <td>143.38</td>\n",
       "      <td>14</td>\n",
       "      <td>29.87</td>\n",
       "      <td>No Comment\\nNo Comment\\nNo Comment\\nNo Comment...</td>\n",
       "      <td>126</td>\n",
       "      <td>1229.9</td>\n",
       "      <td>9.000000</td>\n",
       "      <td>87.850000</td>\n",
       "      <td>5</td>\n",
       "      <td>12</td>\n",
       "    </tr>\n",
       "  </tbody>\n",
       "</table>\n",
       "</div>"
      ],
      "text/plain": [
       "   Tottal Heure Travaile  Nombre De Palette Produite  Nombre d'heure d'arret  \\\n",
       "0                 124.92                          12                   15.92   \n",
       "1                  85.24                           9                   10.59   \n",
       "2                 143.38                          14                   29.87   \n",
       "\n",
       "                                               Cause  Nombre Total SAC  \\\n",
       "0  No Comment\\nNo Comment\\nNo Comment\\nNo Comment...               100   \n",
       "1  No Comment\\nNo Comment\\nNo Comment\\nNo Comment...                74   \n",
       "2  No Comment\\nNo Comment\\nNo Comment\\nNo Comment...               126   \n",
       "\n",
       "   Tottal Poids  NBR SAC/PALETTE  Poid Tottal/PALETTE  \\\n",
       "0         953.0         8.333333            79.416667   \n",
       "1         702.1         8.222222            78.011111   \n",
       "2        1229.9         9.000000            87.850000   \n",
       "\n",
       "   Tottal Echantillon 10Kg  Tottal Echantillon 4Kg  \n",
       "0                        6                       6  \n",
       "1                        5                       4  \n",
       "2                        5                      12  "
      ]
     },
     "execution_count": 64,
     "metadata": {},
     "output_type": "execute_result"
    }
   ],
   "source": [
    "df_synthes"
   ]
  },
  {
   "cell_type": "code",
   "execution_count": 76,
   "id": "f402b4b6",
   "metadata": {},
   "outputs": [],
   "source": [
    "df_synthes.to_excel(r\"./Synthese.xlsx\", index= False, startrow=2, startcol=2)"
   ]
  },
  {
   "cell_type": "code",
   "execution_count": 83,
   "id": "19eaa9c8",
   "metadata": {},
   "outputs": [
    {
     "name": "stderr",
     "output_type": "stream",
     "text": [
      "C:\\Users\\zifellah\\AppData\\Local\\Temp\\ipykernel_18472\\3676384356.py:9: FutureWarning: Setting the `book` attribute is not part of the public API, usage can give unexpected or corrupted results and will be removed in a future version\n",
      "  writer.book = wb\n",
      "C:\\Users\\zifellah\\AppData\\Local\\Temp\\ipykernel_18472\\3676384356.py:43: FutureWarning: save is not part of the public API, usage can give unexpected results and will be removed in a future version\n",
      "  writer.save()\n"
     ]
    }
   ],
   "source": [
    "# Create a new Excel workbook\n",
    "wb = Workbook()\n",
    "\n",
    "# Select the active sheet (you can create a new one if needed)\n",
    "sheet = wb.active\n",
    "\n",
    "# Convert the DataFrame to a Pandas Excel writer object\n",
    "writer = pd.ExcelWriter(r\"./Synthese.xlsx\", engine='openpyxl') \n",
    "writer.book = wb\n",
    "\n",
    "# Write the DataFrame to the Excel sheet\n",
    "df_synthes.to_excel(writer, sheet_name='Sheet1', index=False, startrow=1, startcol=1)\n",
    "\n",
    "# Get the xlsxwriter workbook and worksheet objects\n",
    "workbook = writer.book\n",
    "worksheet = writer.sheets['Sheet1']\n",
    "\n",
    "# Define a border style\n",
    "border = Border(left=Side(border_style='thin'),\n",
    "                right=Side(border_style='thin'),\n",
    "                top=Side(border_style='thin'),\n",
    "                bottom=Side(border_style='thin'))\n",
    "\n",
    "# # Create fill colors for each column\n",
    "# fill_colors = {\n",
    "#     'Column1': PatternFill(start_color='FFFF00', end_color='FFFF00', fill_type='solid'),\n",
    "#     'Column2': PatternFill(start_color='00FF00', end_color='00FF00', fill_type='solid'),\n",
    "#     'Column3': PatternFill(start_color='FF00FF', end_color='FF00FF', fill_type='solid')\n",
    "# }\n",
    "\n",
    "# # Apply borders and colors to each column\n",
    "# for col_idx, column_name in enumerate(df_synthes.columns, start=1):\n",
    "#     # Apply the border to each cell in the column\n",
    "#     for row_idx, cell in enumerate(sheet.iter_cols(min_col=col_idx, max_col=col_idx, min_row=2), start=1):\n",
    "#         cell[0].border = border\n",
    "\n",
    "#     # Apply the fill color to the column header cell\n",
    "#     header_cell = sheet.cell(row=1, column=col_idx)\n",
    "#     header_cell.fill = fill_colors.get(column_name, PatternFill(start_color='FFFFFF', end_color='FFFFFF', fill_type='solid'))\n",
    "\n",
    "\n",
    "# Save the Excel file\n",
    "writer.save()\n",
    "\n"
   ]
  },
  {
   "cell_type": "code",
   "execution_count": null,
   "id": "51603037",
   "metadata": {},
   "outputs": [],
   "source": []
  },
  {
   "cell_type": "code",
   "execution_count": null,
   "id": "6b6528c4",
   "metadata": {},
   "outputs": [],
   "source": []
  },
  {
   "cell_type": "code",
   "execution_count": null,
   "id": "26a4aed6",
   "metadata": {},
   "outputs": [],
   "source": []
  },
  {
   "cell_type": "code",
   "execution_count": null,
   "id": "4061cde3",
   "metadata": {},
   "outputs": [],
   "source": []
  },
  {
   "cell_type": "code",
   "execution_count": null,
   "id": "4b70c271",
   "metadata": {},
   "outputs": [],
   "source": []
  },
  {
   "cell_type": "code",
   "execution_count": 84,
   "id": "72bd635c",
   "metadata": {},
   "outputs": [],
   "source": [
    "import pandas as pd\n",
    "\n",
    "# Sample DataFrame\n",
    "data = {'Column1': [1, 2, 3, 4],\n",
    "        'Column2': ['A', 'B', 'C', 'D'],\n",
    "        'Column3': [10, 20, 30, 40]}\n",
    "\n",
    "df = pd.DataFrame(data)\n"
   ]
  },
  {
   "cell_type": "code",
   "execution_count": 85,
   "id": "92472cf4",
   "metadata": {},
   "outputs": [],
   "source": [
    "excel_writer = pd.ExcelWriter('output.xlsx', engine='openpyxl')"
   ]
  },
  {
   "cell_type": "code",
   "execution_count": 86,
   "id": "38d388f2",
   "metadata": {},
   "outputs": [],
   "source": [
    "df.to_excel(excel_writer, sheet_name='Sheet1', index=False)"
   ]
  },
  {
   "cell_type": "code",
   "execution_count": 87,
   "id": "0cf037ce",
   "metadata": {},
   "outputs": [],
   "source": [
    "workbook = excel_writer.book\n",
    "worksheet = excel_writer.sheets['Sheet1']\n"
   ]
  },
  {
   "cell_type": "code",
   "execution_count": 88,
   "id": "108ffc41",
   "metadata": {},
   "outputs": [
    {
     "ename": "ValueError",
     "evalue": "B: is not a valid coordinate or range",
     "output_type": "error",
     "traceback": [
      "\u001b[1;31m---------------------------------------------------------------------------\u001b[0m",
      "\u001b[1;31mValueError\u001b[0m                                Traceback (most recent call last)",
      "Input \u001b[1;32mIn [88]\u001b[0m, in \u001b[0;36m<cell line: 17>\u001b[1;34m()\u001b[0m\n\u001b[0;32m     16\u001b[0m \u001b[38;5;66;03m# Apply formatting to each column\u001b[39;00m\n\u001b[0;32m     17\u001b[0m \u001b[38;5;28;01mfor\u001b[39;00m idx, column \u001b[38;5;129;01min\u001b[39;00m \u001b[38;5;28menumerate\u001b[39m(df\u001b[38;5;241m.\u001b[39mcolumns, \u001b[38;5;241m1\u001b[39m):\n\u001b[1;32m---> 18\u001b[0m     \u001b[38;5;28;01mfor\u001b[39;00m cell \u001b[38;5;129;01min\u001b[39;00m \u001b[43mworksheet\u001b[49m\u001b[43m[\u001b[49m\u001b[38;5;124;43mf\u001b[39;49m\u001b[38;5;124;43m\"\u001b[39;49m\u001b[38;5;132;43;01m{\u001b[39;49;00m\u001b[38;5;28;43mchr\u001b[39;49m\u001b[43m(\u001b[49m\u001b[38;5;241;43m65\u001b[39;49m\u001b[43m \u001b[49m\u001b[38;5;241;43m+\u001b[39;49m\u001b[43m \u001b[49m\u001b[43midx\u001b[49m\u001b[43m)\u001b[49m\u001b[38;5;132;43;01m}\u001b[39;49;00m\u001b[38;5;124;43m:\u001b[39;49m\u001b[38;5;124;43m\"\u001b[39;49m\u001b[43m]\u001b[49m:\n\u001b[0;32m     19\u001b[0m         cell\u001b[38;5;241m.\u001b[39mborder \u001b[38;5;241m=\u001b[39m border\n\u001b[0;32m     20\u001b[0m         cell\u001b[38;5;241m.\u001b[39mfill \u001b[38;5;241m=\u001b[39m fills[idx \u001b[38;5;241m-\u001b[39m \u001b[38;5;241m1\u001b[39m]\n",
      "File \u001b[1;32m~\\AppData\\Local\\Programs\\Python\\Python310\\lib\\site-packages\\openpyxl\\worksheet\\worksheet.py:295\u001b[0m, in \u001b[0;36mWorksheet.__getitem__\u001b[1;34m(self, key)\u001b[0m\n\u001b[0;32m    292\u001b[0m \u001b[38;5;28;01mif\u001b[39;00m \u001b[38;5;28misinstance\u001b[39m(key, \u001b[38;5;28mint\u001b[39m):\n\u001b[0;32m    293\u001b[0m     key \u001b[38;5;241m=\u001b[39m \u001b[38;5;28mstr\u001b[39m(key\n\u001b[0;32m    294\u001b[0m               )\n\u001b[1;32m--> 295\u001b[0m min_col, min_row, max_col, max_row \u001b[38;5;241m=\u001b[39m \u001b[43mrange_boundaries\u001b[49m\u001b[43m(\u001b[49m\u001b[43mkey\u001b[49m\u001b[43m)\u001b[49m\n\u001b[0;32m    297\u001b[0m \u001b[38;5;28;01mif\u001b[39;00m \u001b[38;5;129;01mnot\u001b[39;00m \u001b[38;5;28many\u001b[39m([min_col, min_row, max_col, max_row]):\n\u001b[0;32m    298\u001b[0m     \u001b[38;5;28;01mraise\u001b[39;00m \u001b[38;5;167;01mIndexError\u001b[39;00m(\u001b[38;5;124m\"\u001b[39m\u001b[38;5;132;01m{0}\u001b[39;00m\u001b[38;5;124m is not a valid coordinate or range\u001b[39m\u001b[38;5;124m\"\u001b[39m\u001b[38;5;241m.\u001b[39mformat(key))\n",
      "File \u001b[1;32m~\\AppData\\Local\\Programs\\Python\\Python310\\lib\\site-packages\\openpyxl\\utils\\cell.py:148\u001b[0m, in \u001b[0;36mrange_boundaries\u001b[1;34m(range_string)\u001b[0m\n\u001b[0;32m    141\u001b[0m     rows \u001b[38;5;241m=\u001b[39m min_row, max_row\n\u001b[0;32m    143\u001b[0m     \u001b[38;5;28;01mif\u001b[39;00m \u001b[38;5;129;01mnot\u001b[39;00m (\n\u001b[0;32m    144\u001b[0m         \u001b[38;5;28mall\u001b[39m(cols \u001b[38;5;241m+\u001b[39m rows) \u001b[38;5;129;01mor\u001b[39;00m\n\u001b[0;32m    145\u001b[0m         \u001b[38;5;28mall\u001b[39m(cols) \u001b[38;5;129;01mand\u001b[39;00m \u001b[38;5;129;01mnot\u001b[39;00m \u001b[38;5;28many\u001b[39m(rows) \u001b[38;5;129;01mor\u001b[39;00m\n\u001b[0;32m    146\u001b[0m         \u001b[38;5;28mall\u001b[39m(rows) \u001b[38;5;129;01mand\u001b[39;00m \u001b[38;5;129;01mnot\u001b[39;00m \u001b[38;5;28many\u001b[39m(cols)\n\u001b[0;32m    147\u001b[0m     ):\n\u001b[1;32m--> 148\u001b[0m         \u001b[38;5;28;01mraise\u001b[39;00m \u001b[38;5;167;01mValueError\u001b[39;00m(msg)\n\u001b[0;32m    150\u001b[0m \u001b[38;5;28;01mif\u001b[39;00m min_col \u001b[38;5;129;01mis\u001b[39;00m \u001b[38;5;129;01mnot\u001b[39;00m \u001b[38;5;28;01mNone\u001b[39;00m:\n\u001b[0;32m    151\u001b[0m     min_col \u001b[38;5;241m=\u001b[39m column_index_from_string(min_col)\n",
      "\u001b[1;31mValueError\u001b[0m: B: is not a valid coordinate or range"
     ]
    }
   ],
   "source": [
    "from openpyxl.styles import Border, Side, PatternFill, Font\n",
    "\n",
    "# Border formatting\n",
    "border = Border(left=Side(border_style='thin'),\n",
    "                right=Side(border_style='thin'),\n",
    "                top=Side(border_style='thin'),\n",
    "                bottom=Side(border_style='thin'))\n",
    "\n",
    "# Fill (background color) formatting\n",
    "colors = ['FFFF00', 'FF00FF', '00FFFF']  # Example colors\n",
    "fills = [PatternFill(start_color=color, end_color=color, fill_type='solid') for color in colors]\n",
    "\n",
    "# Font formatting (optional)\n",
    "font = Font(bold=True, color='FFFFFF')\n",
    "\n",
    "# Apply formatting to each column\n",
    "for idx, column in enumerate(df.columns, 1):\n",
    "    for cell in worksheet[f\"{chr(65 + idx)}:\"]:\n",
    "        cell.border = border\n",
    "        cell.fill = fills[idx - 1]\n",
    "        cell.font = font\n"
   ]
  },
  {
   "cell_type": "code",
   "execution_count": 122,
   "id": "18d0c45d",
   "metadata": {},
   "outputs": [
    {
     "name": "stderr",
     "output_type": "stream",
     "text": [
      "C:\\Users\\zifellah\\AppData\\Local\\Temp\\ipykernel_18472\\1703535.py:59: FutureWarning: save is not part of the public API, usage can give unexpected results and will be removed in a future version\n",
      "  excel_writer.save()\n"
     ]
    }
   ],
   "source": [
    "from openpyxl.styles import Border, Side, PatternFill, Font\n",
    "import pandas as pd\n",
    "from openpyxl.utils import get_column_letter\n",
    "\n",
    "data = {'Column1': [1, 2, 3, 4],\n",
    "        'Column2': ['A', 'B', 'C', 'D'],\n",
    "        'Column3': [10, 20, 30, 40],\n",
    "       'Column4': [10, 20, 30, 40],\n",
    "       'Column5': [10, 20, 30, 40],\n",
    "       'Column6': [10, 20, 30, 40],\n",
    "       'Column7': [10, 20, 30, 40],}\n",
    "\n",
    "df = pd.DataFrame(data)\n",
    "\n",
    "df = pd.DataFrame(data)\n",
    "\n",
    "# Create an Excel writer object\n",
    "excel_writer = pd.ExcelWriter('output.xlsx', engine='openpyxl')\n",
    "\n",
    "# Write the DataFrame to the Excel file\n",
    "df.to_excel(excel_writer, sheet_name='Sheet1', index=False, startrow=1, startcol=1)\n",
    "cols = list(df.columns)\n",
    "\n",
    "# Get the workbook and sheet objects for further formatting\n",
    "workbook = excel_writer.book\n",
    "worksheet = excel_writer.sheets['Sheet1']\n",
    "\n",
    "# Set a fixed width of 15 pixels for each column\n",
    "for idx, column in enumerate(df.columns, 4):\n",
    "    col_letter = get_column_letter(idx)\n",
    "    worksheet.column_dimensions[col_letter].width = 17\n",
    "    \n",
    "# Border formatting\n",
    "border = Border(left=Side(border_style='thin'),\n",
    "                right=Side(border_style='thin'),\n",
    "                top=Side(border_style='thin'),\n",
    "                bottom=Side(border_style='thin'))\n",
    "\n",
    "# Fill (background color) formatting\n",
    "colors = [\"FFFFFF\" for i in df.columns] \n",
    "for i in cols:\n",
    "    if cols.index(i)%2:\n",
    "        colors[cols.index(i)] = \"CCCCCC\"\n",
    "        \n",
    "fills = [PatternFill(start_color=color, end_color=color, fill_type='solid') for color in colors]\n",
    "\n",
    "# Font formatting (optional)\n",
    "font = Font(bold=True, color='000000')\n",
    "\n",
    "# Apply formatting to each column\n",
    "for idx, column in enumerate(df.columns, 1):\n",
    "    for row in worksheet.iter_rows(min_row=2, max_row=len(df) + 1, min_col=idx, max_col=idx):\n",
    "        for cell in row:\n",
    "            cell.border = border\n",
    "            cell.fill = fills[idx - 1]\n",
    "            cell.font = font\n",
    "\n",
    "# Save the Excel file\n",
    "excel_writer.save()\n"
   ]
  },
  {
   "cell_type": "code",
   "execution_count": null,
   "id": "35cfe5b9",
   "metadata": {},
   "outputs": [],
   "source": [
    "colors = ['CCCCCC', 'FFFFFF', 'CCCCCC'] "
   ]
  },
  {
   "cell_type": "code",
   "execution_count": 93,
   "id": "a5920f35",
   "metadata": {},
   "outputs": [
    {
     "data": {
      "text/plain": [
       "Index(['Column1', 'Column2', 'Column3'], dtype='object')"
      ]
     },
     "execution_count": 93,
     "metadata": {},
     "output_type": "execute_result"
    }
   ],
   "source": [
    "df.columns"
   ]
  },
  {
   "cell_type": "code",
   "execution_count": 100,
   "id": "cd22155d",
   "metadata": {},
   "outputs": [
    {
     "ename": "TypeError",
     "evalue": "index() takes at least 1 argument (0 given)",
     "output_type": "error",
     "traceback": [
      "\u001b[1;31m---------------------------------------------------------------------------\u001b[0m",
      "\u001b[1;31mTypeError\u001b[0m                                 Traceback (most recent call last)",
      "Input \u001b[1;32mIn [100]\u001b[0m, in \u001b[0;36m<cell line: 1>\u001b[1;34m()\u001b[0m\n\u001b[0;32m      1\u001b[0m \u001b[38;5;28;01mfor\u001b[39;00m i \u001b[38;5;129;01min\u001b[39;00m \u001b[38;5;28mlist\u001b[39m(df\u001b[38;5;241m.\u001b[39mcolumns):\n\u001b[1;32m----> 2\u001b[0m     \u001b[38;5;28mprint\u001b[39m(\u001b[43mi\u001b[49m\u001b[38;5;241;43m.\u001b[39;49m\u001b[43mindex\u001b[49m\u001b[43m(\u001b[49m\u001b[43m)\u001b[49m)\n",
      "\u001b[1;31mTypeError\u001b[0m: index() takes at least 1 argument (0 given)"
     ]
    }
   ],
   "source": [
    "for i in list(df.columns):\n",
    "    print(i.index())"
   ]
  },
  {
   "cell_type": "code",
   "execution_count": 113,
   "id": "22251246",
   "metadata": {},
   "outputs": [],
   "source": [
    "data = {'Column1': [1, 2, 3, 4],\n",
    "        'Column2': ['A', 'B', 'C', 'D'],\n",
    "        'Column3': [10, 20, 30, 40],\n",
    "       'Column4': [10, 20, 30, 40],\n",
    "       'Column5': [10, 20, 30, 40],\n",
    "       'Column6': [10, 20, 30, 40],\n",
    "       'Column7': [10, 20, 30, 40],}\n",
    "\n",
    "df = pd.DataFrame(data)\n",
    "colors = [\"FFFFFF\" for i in df.columns]\n",
    "cols = list(df.columns)\n",
    "\n",
    "for i in cols:\n",
    "    if cols.index(i)%2:\n",
    "        colors[cols.index(i)] = \"CCCCCC\""
   ]
  },
  {
   "cell_type": "code",
   "execution_count": 114,
   "id": "28b130a7",
   "metadata": {},
   "outputs": [
    {
     "data": {
      "text/plain": [
       "['FFFFFF', 'CCCCCC', 'FFFFFF', 'CCCCCC', 'FFFFFF', 'CCCCCC', 'FFFFFF']"
      ]
     },
     "execution_count": 114,
     "metadata": {},
     "output_type": "execute_result"
    }
   ],
   "source": [
    "colors"
   ]
  },
  {
   "cell_type": "code",
   "execution_count": null,
   "id": "8d17037a",
   "metadata": {},
   "outputs": [],
   "source": []
  }
 ],
 "metadata": {
  "kernelspec": {
   "display_name": "Python 3 (ipykernel)",
   "language": "python",
   "name": "python3"
  },
  "language_info": {
   "codemirror_mode": {
    "name": "ipython",
    "version": 3
   },
   "file_extension": ".py",
   "mimetype": "text/x-python",
   "name": "python",
   "nbconvert_exporter": "python",
   "pygments_lexer": "ipython3",
   "version": "3.10.6"
  }
 },
 "nbformat": 4,
 "nbformat_minor": 5
}
